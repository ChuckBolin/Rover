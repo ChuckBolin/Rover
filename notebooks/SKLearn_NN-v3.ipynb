{
 "cells": [
  {
   "cell_type": "code",
   "execution_count": 1,
   "metadata": {
    "collapsed": false
   },
   "outputs": [
    {
     "name": "stderr",
     "output_type": "stream",
     "text": [
      "C:\\Users\\Chuck B\\Anaconda3\\envs\\py27\\lib\\site-packages\\sklearn\\cross_validation.py:44: DeprecationWarning: This module was deprecated in version 0.18 in favor of the model_selection module into which all the refactored classes and functions are moved. Also note that the interface of the new CV iterators are different from that of this module. This module will be removed in 0.20.\n",
      "  \"This module will be removed in 0.20.\", DeprecationWarning)\n"
     ]
    }
   ],
   "source": [
    "from sklearn.neural_network import MLPClassifier\n",
    "from sklearn.preprocessing import StandardScaler \n",
    "from sklearn.cross_validation import train_test_split\n",
    "from sklearn.cross_validation import cross_val_score\n",
    "from sklearn.metrics import classification_report,confusion_matrix\n",
    "from sklearn.metrics import precision_recall_fscore_support as score\n",
    "from sklearn.pipeline import Pipeline\n",
    "import pandas as pd\n",
    "import numpy as np\n",
    "import pickle\n",
    "\n",
    "##"
   ]
  },
  {
   "cell_type": "markdown",
   "metadata": {},
   "source": [
    "# Load and Divide Data into Training and Testing  \n",
    "  \n",
    "In addition, the data is scaled. \n"
   ]
  },
  {
   "cell_type": "code",
   "execution_count": 2,
   "metadata": {
    "collapsed": false,
    "scrolled": true
   },
   "outputs": [
    {
     "name": "stdout",
     "output_type": "stream",
     "text": [
      "(5457, 17)\n",
      "(5457, 14)\n",
      "(5457L,)\n",
      "(4365, 14)\n",
      "(1092, 14)\n"
     ]
    },
    {
     "data": {
      "text/html": [
       "<div>\n",
       "<table border=\"1\" class=\"dataframe\">\n",
       "  <thead>\n",
       "    <tr style=\"text-align: right;\">\n",
       "      <th></th>\n",
       "      <th>DateTime</th>\n",
       "      <th>Temp</th>\n",
       "      <th>Humidity</th>\n",
       "      <th>Pressure</th>\n",
       "      <th>Yaw</th>\n",
       "      <th>Pitch</th>\n",
       "      <th>Roll</th>\n",
       "      <th>MagX</th>\n",
       "      <th>MagY</th>\n",
       "      <th>MagZ</th>\n",
       "      <th>AccX</th>\n",
       "      <th>AccY</th>\n",
       "      <th>AccZ</th>\n",
       "      <th>GyroX</th>\n",
       "      <th>GyroY</th>\n",
       "      <th>GyroZ</th>\n",
       "      <th>State</th>\n",
       "    </tr>\n",
       "  </thead>\n",
       "  <tbody>\n",
       "    <tr>\n",
       "      <th>0</th>\n",
       "      <td>11/12/2017 10:52:35.251176</td>\n",
       "      <td>29.361</td>\n",
       "      <td>40.702</td>\n",
       "      <td>1031.956</td>\n",
       "      <td>215.801975</td>\n",
       "      <td>356.730118</td>\n",
       "      <td>2.171165</td>\n",
       "      <td>-5.351357</td>\n",
       "      <td>5.945352</td>\n",
       "      <td>26.308798</td>\n",
       "      <td>0.056247</td>\n",
       "      <td>0.034719</td>\n",
       "      <td>0.960166</td>\n",
       "      <td>-0.060679</td>\n",
       "      <td>0.072064</td>\n",
       "      <td>0.049957</td>\n",
       "      <td>standing</td>\n",
       "    </tr>\n",
       "    <tr>\n",
       "      <th>1</th>\n",
       "      <td>11/12/2017 10:52:35.523388</td>\n",
       "      <td>29.308</td>\n",
       "      <td>39.749</td>\n",
       "      <td>1031.952</td>\n",
       "      <td>216.099403</td>\n",
       "      <td>356.626506</td>\n",
       "      <td>2.103062</td>\n",
       "      <td>-10.720130</td>\n",
       "      <td>12.090914</td>\n",
       "      <td>53.852757</td>\n",
       "      <td>0.055035</td>\n",
       "      <td>0.016267</td>\n",
       "      <td>0.974544</td>\n",
       "      <td>0.011399</td>\n",
       "      <td>0.019521</td>\n",
       "      <td>-0.016927</td>\n",
       "      <td>standing</td>\n",
       "    </tr>\n",
       "    <tr>\n",
       "      <th>2</th>\n",
       "      <td>11/12/2017 10:52:35.688238</td>\n",
       "      <td>29.468</td>\n",
       "      <td>40.231</td>\n",
       "      <td>1031.941</td>\n",
       "      <td>216.340904</td>\n",
       "      <td>356.301112</td>\n",
       "      <td>2.310486</td>\n",
       "      <td>-13.004756</td>\n",
       "      <td>14.781075</td>\n",
       "      <td>65.216164</td>\n",
       "      <td>0.046307</td>\n",
       "      <td>0.014810</td>\n",
       "      <td>0.939451</td>\n",
       "      <td>0.040319</td>\n",
       "      <td>0.005237</td>\n",
       "      <td>-0.007642</td>\n",
       "      <td>standing</td>\n",
       "    </tr>\n",
       "    <tr>\n",
       "      <th>3</th>\n",
       "      <td>11/12/2017 10:52:35.849093</td>\n",
       "      <td>29.397</td>\n",
       "      <td>40.121</td>\n",
       "      <td>1031.950</td>\n",
       "      <td>216.613607</td>\n",
       "      <td>356.519507</td>\n",
       "      <td>2.298305</td>\n",
       "      <td>-13.880388</td>\n",
       "      <td>16.216396</td>\n",
       "      <td>69.694740</td>\n",
       "      <td>0.060854</td>\n",
       "      <td>0.016267</td>\n",
       "      <td>0.945544</td>\n",
       "      <td>-0.005668</td>\n",
       "      <td>0.020673</td>\n",
       "      <td>0.007911</td>\n",
       "      <td>standing</td>\n",
       "    </tr>\n",
       "    <tr>\n",
       "      <th>4</th>\n",
       "      <td>11/12/2017 10:52:36.010403</td>\n",
       "      <td>29.343</td>\n",
       "      <td>40.088</td>\n",
       "      <td>1031.943</td>\n",
       "      <td>216.940253</td>\n",
       "      <td>356.745464</td>\n",
       "      <td>2.196436</td>\n",
       "      <td>-13.895806</td>\n",
       "      <td>16.390114</td>\n",
       "      <td>71.753525</td>\n",
       "      <td>0.055763</td>\n",
       "      <td>0.023308</td>\n",
       "      <td>0.937014</td>\n",
       "      <td>-0.008612</td>\n",
       "      <td>0.015847</td>\n",
       "      <td>0.017006</td>\n",
       "      <td>standing</td>\n",
       "    </tr>\n",
       "  </tbody>\n",
       "</table>\n",
       "</div>"
      ],
      "text/plain": [
       "                     DateTime    Temp   Humidity   Pressure         Yaw  \\\n",
       "0  11/12/2017 10:52:35.251176  29.361     40.702   1031.956  215.801975   \n",
       "1  11/12/2017 10:52:35.523388  29.308     39.749   1031.952  216.099403   \n",
       "2  11/12/2017 10:52:35.688238  29.468     40.231   1031.941  216.340904   \n",
       "3  11/12/2017 10:52:35.849093  29.397     40.121   1031.950  216.613607   \n",
       "4  11/12/2017 10:52:36.010403  29.343     40.088   1031.943  216.940253   \n",
       "\n",
       "        Pitch      Roll       MagX       MagY       MagZ      AccX      AccY  \\\n",
       "0  356.730118  2.171165  -5.351357   5.945352  26.308798  0.056247  0.034719   \n",
       "1  356.626506  2.103062 -10.720130  12.090914  53.852757  0.055035  0.016267   \n",
       "2  356.301112  2.310486 -13.004756  14.781075  65.216164  0.046307  0.014810   \n",
       "3  356.519507  2.298305 -13.880388  16.216396  69.694740  0.060854  0.016267   \n",
       "4  356.745464  2.196436 -13.895806  16.390114  71.753525  0.055763  0.023308   \n",
       "\n",
       "       AccZ     GyroX     GyroY     GyroZ     State  \n",
       "0  0.960166 -0.060679  0.072064  0.049957  standing  \n",
       "1  0.974544  0.011399  0.019521 -0.016927  standing  \n",
       "2  0.939451  0.040319  0.005237 -0.007642  standing  \n",
       "3  0.945544 -0.005668  0.020673  0.007911  standing  \n",
       "4  0.937014 -0.008612  0.015847  0.017006  standing  "
      ]
     },
     "execution_count": 2,
     "metadata": {},
     "output_type": "execute_result"
    }
   ],
   "source": [
    "# Load comma delimited sensor data into Pandas data frame\n",
    "sensor_file = \"../data/sensor_11_12_2017_10_52_24.csv\"\n",
    "df = pd.read_csv(sensor_file)\n",
    "print (df.shape)\n",
    "\n",
    "# Extract features and target (y)\n",
    "X = df.iloc[:,1:15] # exclude data\n",
    "y = df.iloc[:,16]\n",
    "print (X.shape)\n",
    "print (y.shape)\n",
    "\n",
    "# Use 80% of data for training, 20% for testing\n",
    "X_train,X_test,y_train,y_test = train_test_split(X,y,test_size=0.20, random_state = 1)\n",
    "print (X_train.shape)\n",
    "print (X_test.shape)\n",
    "\n",
    "# Scaling features, mean = 0, stddev = 1\n",
    "scaler = StandardScaler()\n",
    "scaler.fit(X_train)  \n",
    "X_train = scaler.transform(X_train)\n",
    "\n",
    "# Head\n",
    "df.head()\n",
    "\n",
    "##"
   ]
  },
  {
   "cell_type": "code",
   "execution_count": 110,
   "metadata": {
    "collapsed": false
   },
   "outputs": [
    {
     "name": "stdout",
     "output_type": "stream",
     "text": [
      "Type <class 'pandas.core.series.Series'>\n",
      "Shape (15L,)\n",
      "Type <type 'numpy.ndarray'>\n",
      "(1L, 15L)\n"
     ]
    },
    {
     "name": "stderr",
     "output_type": "stream",
     "text": [
      "C:\\Users\\Chuck B\\Anaconda3\\envs\\py27\\lib\\site-packages\\ipykernel\\__main__.py:46: FutureWarning: reshape is deprecated and will raise in a subsequent release. Please use .values.reshape(...) instead\n",
      "C:\\Users\\Chuck B\\Anaconda3\\envs\\py27\\lib\\site-packages\\ipykernel\\__main__.py:48: FutureWarning: reshape is deprecated and will raise in a subsequent release. Please use .values.reshape(...) instead\n"
     ]
    }
   ],
   "source": [
    "### Practice of conversions\n",
    "\n",
    "\n",
    "\n",
    "# prediction = loaded_model.predict(array(dat).reshape(1,-1))\n",
    "\n",
    "\n",
    "# print \"Type\", type(X_test)\n",
    "# print \"Shape\", X_test.shape\n",
    "# print X_test.head(1)\n",
    "\n",
    "# pd_series = X_test.iloc[10,:]\n",
    "# print \"Type\", type(pd_series)\n",
    "# print \"Shape\", pd_series.shape\n",
    "# print pd_series #.head(3)\n",
    "\n",
    "# np = pd_series.reshape(1,-1)\n",
    "# print \"Type\", type(np)\n",
    "# print \"Shape\", np.shape\n",
    "# print np\n",
    "\n",
    "# print pd_series.reshape(1,-1).shape\n",
    "# print\n",
    "# print X_test.iloc[10,:].shape\n",
    "\n",
    "\n",
    "# mylist = list(pd_series)\n",
    "# print \"Type\", type(mylist)\n",
    "# print \"Len\", len(mylist)\n",
    "\n",
    "# Let's format floats to 3 digits\n",
    "# fx = lambda x: ('%.3f' % float(x))\n",
    "# mylist_formatted = map(fx, mylist)\n",
    "# print mylist_formatted\n",
    "\n",
    "# from numpy import array\n",
    "# mylist_array = array(mylist)\n",
    "# print \"Type\", type(mylist_array)\n",
    "# print \"Shape\", mylist_array.shape\n",
    "# print map(fx,mylist_array)\n",
    "\n",
    "dat = ['15.000', '20.323', '511.239', '82.007', '179.526', '0.073', '-12.106', '-3.473', '31.989', '0.007', '0.001', '0.473', '-0.000', '0.000', '0.000']\n",
    "dat_series = pd.Series(dat)\n",
    "print \"Type\", type(dat_series)\n",
    "print \"Shape\", dat_series.shape\n",
    "print \"Type\", type(dat_series.reshape(1,-1))\n",
    "# print dat_series.reshape(1,15)\n",
    "print dat_series.reshape(1,-1).shape"
   ]
  },
  {
   "cell_type": "markdown",
   "metadata": {},
   "source": [
    "# Construct Neural Network Model and Tweak"
   ]
  },
  {
   "cell_type": "code",
   "execution_count": 54,
   "metadata": {
    "collapsed": false
   },
   "outputs": [
    {
     "name": "stdout",
     "output_type": "stream",
     "text": [
      "0.904545454545\n",
      "0.906605922551\n",
      "0.908675799087\n",
      "0.915525114155\n",
      "0.920091324201\n",
      "0.92183908046\n",
      "0.905747126437\n",
      "0.935483870968\n",
      "0.923963133641\n",
      "0.907834101382\n"
     ]
    },
    {
     "ename": "TypeError",
     "evalue": "only integer scalar arrays can be converted to a scalar index",
     "output_type": "error",
     "traceback": [
      "\u001b[0;31m--------------------------------------------------------------------------\u001b[0m",
      "\u001b[0;31mTypeError\u001b[0m                                Traceback (most recent call last)",
      "\u001b[0;32m<ipython-input-54-5fcb6014ea96>\u001b[0m in \u001b[0;36m<module>\u001b[0;34m()\u001b[0m\n\u001b[1;32m     16\u001b[0m \u001b[1;33m\u001b[0m\u001b[0m\n\u001b[1;32m     17\u001b[0m \u001b[1;31m# The final CV acc for training data was 0.64 using Logistic Regression\u001b[0m\u001b[1;33m\u001b[0m\u001b[1;33m\u001b[0m\u001b[0m\n\u001b[0;32m---> 18\u001b[0;31m \u001b[1;32mprint\u001b[0m \u001b[1;33m(\u001b[0m\u001b[1;34m'CV Acc: %.3f +/- %.3f'\u001b[0m \u001b[1;33m%\u001b[0m \u001b[1;33m(\u001b[0m\u001b[0mnp\u001b[0m\u001b[1;33m.\u001b[0m\u001b[0mmean\u001b[0m\u001b[1;33m(\u001b[0m\u001b[0mscores\u001b[0m\u001b[1;33m)\u001b[0m\u001b[1;33m,\u001b[0m \u001b[0mnp\u001b[0m\u001b[1;33m.\u001b[0m\u001b[0mstd\u001b[0m\u001b[1;33m(\u001b[0m\u001b[0mscores\u001b[0m\u001b[1;33m)\u001b[0m\u001b[1;33m)\u001b[0m\u001b[1;33m)\u001b[0m\u001b[1;33m\u001b[0m\u001b[0m\n\u001b[0m\u001b[1;32m     19\u001b[0m \u001b[1;33m\u001b[0m\u001b[0m\n\u001b[1;32m     20\u001b[0m \u001b[1;31m##\u001b[0m\u001b[1;33m\u001b[0m\u001b[1;33m\u001b[0m\u001b[0m\n",
      "\u001b[0;32mC:\\Users\\Chuck B\\Anaconda3\\envs\\py27\\lib\\site-packages\\numpy\\core\\_methods.pyc\u001b[0m in \u001b[0;36m_mean\u001b[0;34m(a, axis, dtype, out, keepdims)\u001b[0m\n\u001b[1;32m     55\u001b[0m \u001b[1;33m\u001b[0m\u001b[0m\n\u001b[1;32m     56\u001b[0m     \u001b[0mis_float16_result\u001b[0m \u001b[1;33m=\u001b[0m \u001b[0mFalse\u001b[0m\u001b[1;33m\u001b[0m\u001b[0m\n\u001b[0;32m---> 57\u001b[0;31m     \u001b[0mrcount\u001b[0m \u001b[1;33m=\u001b[0m \u001b[0m_count_reduce_items\u001b[0m\u001b[1;33m(\u001b[0m\u001b[0marr\u001b[0m\u001b[1;33m,\u001b[0m \u001b[0maxis\u001b[0m\u001b[1;33m)\u001b[0m\u001b[1;33m\u001b[0m\u001b[0m\n\u001b[0m\u001b[1;32m     58\u001b[0m     \u001b[1;31m# Make this warning show up first\u001b[0m\u001b[1;33m\u001b[0m\u001b[1;33m\u001b[0m\u001b[0m\n\u001b[1;32m     59\u001b[0m     \u001b[1;32mif\u001b[0m \u001b[0mrcount\u001b[0m \u001b[1;33m==\u001b[0m \u001b[1;36m0\u001b[0m\u001b[1;33m:\u001b[0m\u001b[1;33m\u001b[0m\u001b[0m\n",
      "\u001b[0;32mC:\\Users\\Chuck B\\Anaconda3\\envs\\py27\\lib\\site-packages\\numpy\\core\\_methods.pyc\u001b[0m in \u001b[0;36m_count_reduce_items\u001b[0;34m(arr, axis)\u001b[0m\n\u001b[1;32m     48\u001b[0m     \u001b[0mitems\u001b[0m \u001b[1;33m=\u001b[0m \u001b[1;36m1\u001b[0m\u001b[1;33m\u001b[0m\u001b[0m\n\u001b[1;32m     49\u001b[0m     \u001b[1;32mfor\u001b[0m \u001b[0max\u001b[0m \u001b[1;32min\u001b[0m \u001b[0maxis\u001b[0m\u001b[1;33m:\u001b[0m\u001b[1;33m\u001b[0m\u001b[0m\n\u001b[0;32m---> 50\u001b[0;31m         \u001b[0mitems\u001b[0m \u001b[1;33m*=\u001b[0m \u001b[0marr\u001b[0m\u001b[1;33m.\u001b[0m\u001b[0mshape\u001b[0m\u001b[1;33m[\u001b[0m\u001b[0max\u001b[0m\u001b[1;33m]\u001b[0m\u001b[1;33m\u001b[0m\u001b[0m\n\u001b[0m\u001b[1;32m     51\u001b[0m     \u001b[1;32mreturn\u001b[0m \u001b[0mitems\u001b[0m\u001b[1;33m\u001b[0m\u001b[0m\n\u001b[1;32m     52\u001b[0m \u001b[1;33m\u001b[0m\u001b[0m\n",
      "\u001b[0;31mTypeError\u001b[0m: only integer scalar arrays can be converted to a scalar index"
     ]
    }
   ],
   "source": [
    "# Supervised neural network model\n",
    "# http://scikit-learn.org/stable/modules/neural_networks_supervised.html\n",
    "\n",
    "# NN has 3 hidden layers. 1st layer has 15 neurons which equals 15 features\n",
    "#     2nd layer has 100 (just because), and 3rd layer has 8 which equals 8 classes\n",
    "\n",
    "# Pipeline, push scaler and classifer\n",
    "pipe = Pipeline([('scl', StandardScaler()),\n",
    "                 ('clf', MLPClassifier(solver='lbfgs', alpha=0.00001,\n",
    "                                           hidden_layer_sizes=(15,100, 8), random_state=1))])\n",
    "\n",
    "# How well does the model converge? Overfitting? Underfitting?\n",
    "scores = cross_val_score(estimator=pipe, X=X_train, y=y_train,cv=10,n_jobs=1)\n",
    "for s in scores:\n",
    "    print (s)\n",
    "    \n",
    "# The final CV acc for training data was 0.64 using Logistic Regression\n",
    "print ('CV Acc: %.3f +/- %.3f' % (np.mean(scores), np.std(scores)))\n",
    "\n",
    "##"
   ]
  },
  {
   "cell_type": "markdown",
   "metadata": {},
   "source": [
    "# Use Models to Make Predictions"
   ]
  },
  {
   "cell_type": "code",
   "execution_count": 55,
   "metadata": {
    "collapsed": true
   },
   "outputs": [],
   "source": [
    "# Fit training data\n",
    "pipe.fit(X_train, y_train)\n",
    "predictions = pipe.predict(scaler.transform(X_test)) # Get predictions\n",
    "\n",
    "##"
   ]
  },
  {
   "cell_type": "markdown",
   "metadata": {},
   "source": [
    "# Evaluate Model Performance on Testing Data"
   ]
  },
  {
   "cell_type": "code",
   "execution_count": 56,
   "metadata": {
    "collapsed": false
   },
   "outputs": [
    {
     "data": {
      "text/html": [
       "<div>\n",
       "<table border=\"1\" class=\"dataframe\">\n",
       "  <thead>\n",
       "    <tr style=\"text-align: right;\">\n",
       "      <th>col_0</th>\n",
       "      <th>go_down</th>\n",
       "      <th>go_up</th>\n",
       "      <th>spin_left</th>\n",
       "      <th>spin_right</th>\n",
       "      <th>standing</th>\n",
       "      <th>turn_left</th>\n",
       "      <th>turn_right</th>\n",
       "      <th>walking</th>\n",
       "    </tr>\n",
       "    <tr>\n",
       "      <th>State</th>\n",
       "      <th></th>\n",
       "      <th></th>\n",
       "      <th></th>\n",
       "      <th></th>\n",
       "      <th></th>\n",
       "      <th></th>\n",
       "      <th></th>\n",
       "      <th></th>\n",
       "    </tr>\n",
       "  </thead>\n",
       "  <tbody>\n",
       "    <tr>\n",
       "      <th>go_down</th>\n",
       "      <td>29</td>\n",
       "      <td>9</td>\n",
       "      <td>1</td>\n",
       "      <td>0</td>\n",
       "      <td>5</td>\n",
       "      <td>0</td>\n",
       "      <td>5</td>\n",
       "      <td>0</td>\n",
       "    </tr>\n",
       "    <tr>\n",
       "      <th>go_up</th>\n",
       "      <td>4</td>\n",
       "      <td>44</td>\n",
       "      <td>2</td>\n",
       "      <td>1</td>\n",
       "      <td>0</td>\n",
       "      <td>0</td>\n",
       "      <td>1</td>\n",
       "      <td>1</td>\n",
       "    </tr>\n",
       "    <tr>\n",
       "      <th>spin_left</th>\n",
       "      <td>0</td>\n",
       "      <td>1</td>\n",
       "      <td>100</td>\n",
       "      <td>0</td>\n",
       "      <td>0</td>\n",
       "      <td>3</td>\n",
       "      <td>0</td>\n",
       "      <td>0</td>\n",
       "    </tr>\n",
       "    <tr>\n",
       "      <th>spin_right</th>\n",
       "      <td>0</td>\n",
       "      <td>0</td>\n",
       "      <td>0</td>\n",
       "      <td>66</td>\n",
       "      <td>1</td>\n",
       "      <td>0</td>\n",
       "      <td>0</td>\n",
       "      <td>0</td>\n",
       "    </tr>\n",
       "    <tr>\n",
       "      <th>standing</th>\n",
       "      <td>0</td>\n",
       "      <td>2</td>\n",
       "      <td>0</td>\n",
       "      <td>0</td>\n",
       "      <td>125</td>\n",
       "      <td>0</td>\n",
       "      <td>0</td>\n",
       "      <td>3</td>\n",
       "    </tr>\n",
       "    <tr>\n",
       "      <th>turn_left</th>\n",
       "      <td>1</td>\n",
       "      <td>1</td>\n",
       "      <td>0</td>\n",
       "      <td>0</td>\n",
       "      <td>5</td>\n",
       "      <td>155</td>\n",
       "      <td>6</td>\n",
       "      <td>9</td>\n",
       "    </tr>\n",
       "    <tr>\n",
       "      <th>turn_right</th>\n",
       "      <td>0</td>\n",
       "      <td>0</td>\n",
       "      <td>0</td>\n",
       "      <td>1</td>\n",
       "      <td>2</td>\n",
       "      <td>2</td>\n",
       "      <td>138</td>\n",
       "      <td>14</td>\n",
       "    </tr>\n",
       "    <tr>\n",
       "      <th>walking</th>\n",
       "      <td>0</td>\n",
       "      <td>1</td>\n",
       "      <td>0</td>\n",
       "      <td>0</td>\n",
       "      <td>4</td>\n",
       "      <td>4</td>\n",
       "      <td>9</td>\n",
       "      <td>337</td>\n",
       "    </tr>\n",
       "  </tbody>\n",
       "</table>\n",
       "</div>"
      ],
      "text/plain": [
       "col_0       go_down  go_up  spin_left  spin_right  standing  turn_left  \\\n",
       " State                                                                   \n",
       "go_down          29      9          1           0         5          0   \n",
       "go_up             4     44          2           1         0          0   \n",
       "spin_left         0      1        100           0         0          3   \n",
       "spin_right        0      0          0          66         1          0   \n",
       "standing          0      2          0           0       125          0   \n",
       "turn_left         1      1          0           0         5        155   \n",
       "turn_right        0      0          0           1         2          2   \n",
       "walking           0      1          0           0         4          4   \n",
       "\n",
       "col_0       turn_right  walking  \n",
       " State                           \n",
       "go_down              5        0  \n",
       "go_up                1        1  \n",
       "spin_left            0        0  \n",
       "spin_right           0        0  \n",
       "standing             0        3  \n",
       "turn_left            6        9  \n",
       "turn_right         138       14  \n",
       "walking              9      337  "
      ]
     },
     "execution_count": 56,
     "metadata": {},
     "output_type": "execute_result"
    }
   ],
   "source": [
    "# Better table\n",
    "pd.crosstab(y_test, predictions)\n",
    "\n",
    "# Ideally, there would zeros everywhere except for the main diagonal\n",
    "# Last row, for example, the actual state is 'walking', but the model\n",
    "# is predicting 'turn-right'\n",
    "\n",
    "##"
   ]
  },
  {
   "cell_type": "code",
   "execution_count": 57,
   "metadata": {
    "collapsed": false
   },
   "outputs": [
    {
     "name": "stdout",
     "output_type": "stream",
     "text": [
      "('Prec ', 'Rec', '  Fscore')\n",
      "('0.853', '0.592', '0.699')\n",
      "('0.759', '0.830', '0.793')\n",
      "('0.971', '0.962', '0.966')\n",
      "('0.971', '0.985', '0.978')\n",
      "('0.880', '0.962', '0.919')\n",
      "('0.945', '0.876', '0.909')\n",
      "('0.868', '0.879', '0.873')\n",
      "('0.926', '0.949', '0.937')\n"
     ]
    }
   ],
   "source": [
    "# Metrics\n",
    "precision, recall, fscore, support = score(y_test, predictions)\n",
    "\n",
    "print ('Prec ','Rec','  Fscore')\n",
    "for i in range(len(precision)):\n",
    "    print (('%.3f' % precision[i]), ('%.3f' % recall[i]), ('%.3f' % fscore[i]))\n",
    "    \n",
    "## Note that accuracy is not appropriate for unbalanced classes.\n",
    "## F-score is the superior metric\n",
    "## The lowest Fscores are associated with 'go_down' and 'go_up'\n",
    "\n",
    "##"
   ]
  },
  {
   "cell_type": "markdown",
   "metadata": {},
   "source": [
    "# Deploying Demonstration  \n",
    "  \n",
    "The following code demonstrate how the Neural Network model is saved and deployed to automatically classify sensor readings into one of eight classes.  \n",
    "\n",
    "I intend on loading this model to the Raspberry Pi and feeding it with the sensor data to indicate automatically what motion the user is making.\n"
   ]
  },
  {
   "cell_type": "code",
   "execution_count": 58,
   "metadata": {
    "collapsed": false,
    "scrolled": true
   },
   "outputs": [],
   "source": [
    "# Use pickle library to save model\n",
    "filename = '../model/sensor_model_2017.11.20a.sav'\n",
    "pickle.dump(pipe, open(filename, 'wb'))\n"
   ]
  },
  {
   "cell_type": "code",
   "execution_count": 99,
   "metadata": {
    "collapsed": false
   },
   "outputs": [
    {
     "name": "stdout",
     "output_type": "stream",
     "text": [
      "15\n",
      "\n",
      "['walking'] <class 'pandas.core.series.Series'> <type 'numpy.ndarray'>\n",
      "['walking'] <class 'pandas.core.series.Series'> <type 'numpy.ndarray'>\n",
      "['turn_left'] <class 'pandas.core.series.Series'> <type 'numpy.ndarray'>\n",
      "['spin_left'] <class 'pandas.core.series.Series'> <type 'numpy.ndarray'>\n",
      "['turn_right'] <class 'pandas.core.series.Series'> <type 'numpy.ndarray'>\n",
      "['spin_right'] <class 'pandas.core.series.Series'> <type 'numpy.ndarray'>\n",
      "['spin_right'] <class 'pandas.core.series.Series'> <type 'numpy.ndarray'>\n",
      "['go_up'] <class 'pandas.core.series.Series'> <type 'numpy.ndarray'>\n",
      "['standing'] <class 'pandas.core.series.Series'> <type 'numpy.ndarray'>\n",
      "['walking'] <class 'pandas.core.series.Series'> <type 'numpy.ndarray'>\n"
     ]
    },
    {
     "name": "stderr",
     "output_type": "stream",
     "text": [
      "C:\\Users\\Chuck B\\Anaconda3\\envs\\py27\\lib\\site-packages\\ipykernel\\__main__.py:22: FutureWarning: reshape is deprecated and will raise in a subsequent release. Please use .values.reshape(...) instead\n",
      "C:\\Users\\Chuck B\\Anaconda3\\envs\\py27\\lib\\site-packages\\ipykernel\\__main__.py:24: FutureWarning: reshape is deprecated and will raise in a subsequent release. Please use .values.reshape(...) instead\n"
     ]
    }
   ],
   "source": [
    "# NOTE: For reference only\n",
    "#Add this to data logger for automatically describing the state of motion\n",
    "filename = '../model/sensor_model_2017.11.20a.sav'\n",
    "\n",
    "# Load our saved model\n",
    "loaded_model = pickle.load(open(filename, 'rb'))\n",
    "# Scaling features, mean = 0, stddev = 1\n",
    "scaler = StandardScaler()\n",
    "scaler.fit(X_test)\n",
    "# Simulate 10 consecutive sensor readings and make a prediction\n",
    "dat = ['15.000', '20.323', '511.239', '82.007', '179.526', '0.073', '-12.106', '-3.473', '31.989', '0.007', '0.001', '0.473', '-0.000', '0.000', '0.000']\n",
    "print len(dat)\n",
    "# prediction = loaded_model.predict(pd.Series(dat))\n",
    "# print (prediction)\n",
    "\n",
    "\n",
    "# prediction = loaded_model.predict(scaler.transform(X_test.iloc[0:5,:].reshape(1,-1)))\n",
    "# print (prediction)\n",
    "print\n",
    "\n",
    "for i in range(100,110):\n",
    "    prediction = loaded_model.predict(scaler.transform(X_test.iloc[i,:].reshape(1,-1))) \n",
    "\n",
    "    print (prediction), type(X_test.iloc[i,:]), type(X_test.iloc[i,:].reshape(1,-1))\n",
    "    \n",
    "    \n",
    "## It may be necessary to calculate a running average on sensors to minimize\n",
    "## noise.\n",
    "\n",
    "##"
   ]
  },
  {
   "cell_type": "code",
   "execution_count": 72,
   "metadata": {
    "collapsed": false
   },
   "outputs": [
    {
     "name": "stdout",
     "output_type": "stream",
     "text": [
      "[' Temp', ' Humidity', ' Pressure', ' Yaw', ' Pitch', ' Roll', ' MagX', ' MagY', ' MagZ', ' AccX', ' AccY', ' AccZ', ' GyroX', ' GyroY']\n"
     ]
    }
   ],
   "source": [
    "print list(X_test.columns)"
   ]
  },
  {
   "cell_type": "code",
   "execution_count": 114,
   "metadata": {
    "collapsed": false,
    "scrolled": true
   },
   "outputs": [
    {
     "name": "stdout",
     "output_type": "stream",
     "text": [
      "15 15\n",
      "['11.406', '22.902', '514.395', '81.636', '179.822', '179.898', '-14.837', '-4.425', '34.947', '0.004', '-0.003', '0.471', '-0.000', '-0.001', '-0.001']\n",
      "['Temp', 'Humidity', 'Pressure', 'Yaw', 'Pitch', 'Roll', 'MagX', 'MagY', 'MagZ', 'AccX', 'AccY', 'AccZ', 'GyroX', ' GyroY', 'GyroZ']\n"
     ]
    },
    {
     "name": "stderr",
     "output_type": "stream",
     "text": [
      "C:\\Users\\Chuck B\\Anaconda3\\envs\\py27\\lib\\site-packages\\ipykernel\\__main__.py:24: FutureWarning: reshape is deprecated and will raise in a subsequent release. Please use .values.reshape(...) instead\n"
     ]
    },
    {
     "ename": "ValueError",
     "evalue": "operands could not be broadcast together with shapes (1,15) (14,) (1,15) ",
     "output_type": "error",
     "traceback": [
      "\u001b[0;31m--------------------------------------------------------------------------\u001b[0m",
      "\u001b[0;31mValueError\u001b[0m                               Traceback (most recent call last)",
      "\u001b[0;32m<ipython-input-114-7e14e99f3f4f>\u001b[0m in \u001b[0;36m<module>\u001b[0;34m()\u001b[0m\n\u001b[1;32m     22\u001b[0m \u001b[1;31m# Simulate 10 consecutive sensor readings and make a prediction\u001b[0m\u001b[1;33m\u001b[0m\u001b[1;33m\u001b[0m\u001b[0m\n\u001b[1;32m     23\u001b[0m \u001b[0mdat\u001b[0m \u001b[1;33m=\u001b[0m \u001b[1;33m[\u001b[0m\u001b[1;34m'15.000'\u001b[0m\u001b[1;33m,\u001b[0m \u001b[1;34m'20.323'\u001b[0m\u001b[1;33m,\u001b[0m \u001b[1;34m'511.239'\u001b[0m\u001b[1;33m,\u001b[0m \u001b[1;34m'82.007'\u001b[0m\u001b[1;33m,\u001b[0m \u001b[1;34m'179.526'\u001b[0m\u001b[1;33m,\u001b[0m \u001b[1;34m'0.073'\u001b[0m\u001b[1;33m,\u001b[0m \u001b[1;34m'-12.106'\u001b[0m\u001b[1;33m,\u001b[0m \u001b[1;34m'-3.473'\u001b[0m\u001b[1;33m,\u001b[0m \u001b[1;34m'31.989'\u001b[0m\u001b[1;33m,\u001b[0m \u001b[1;34m'0.007'\u001b[0m\u001b[1;33m,\u001b[0m \u001b[1;34m'0.001'\u001b[0m\u001b[1;33m,\u001b[0m \u001b[1;34m'0.473'\u001b[0m\u001b[1;33m,\u001b[0m \u001b[1;34m'-0.000'\u001b[0m\u001b[1;33m,\u001b[0m \u001b[1;34m'0.000'\u001b[0m\u001b[1;33m,\u001b[0m \u001b[1;34m'0.000'\u001b[0m\u001b[1;33m]\u001b[0m\u001b[1;33m\u001b[0m\u001b[0m\n\u001b[0;32m---> 24\u001b[0;31m \u001b[0mprediction\u001b[0m \u001b[1;33m=\u001b[0m \u001b[0mloaded_model\u001b[0m\u001b[1;33m.\u001b[0m\u001b[0mpredict\u001b[0m\u001b[1;33m(\u001b[0m\u001b[0mpd\u001b[0m\u001b[1;33m.\u001b[0m\u001b[0mSeries\u001b[0m\u001b[1;33m(\u001b[0m\u001b[0mdat\u001b[0m\u001b[1;33m)\u001b[0m\u001b[1;33m.\u001b[0m\u001b[0mreshape\u001b[0m\u001b[1;33m(\u001b[0m\u001b[1;36m1\u001b[0m\u001b[1;33m,\u001b[0m\u001b[1;33m-\u001b[0m\u001b[1;36m1\u001b[0m\u001b[1;33m)\u001b[0m\u001b[1;33m)\u001b[0m\u001b[1;33m\u001b[0m\u001b[0m\n\u001b[0m\u001b[1;32m     25\u001b[0m \u001b[1;31m# print (prediction)\u001b[0m\u001b[1;33m\u001b[0m\u001b[1;33m\u001b[0m\u001b[0m\n\u001b[1;32m     26\u001b[0m \u001b[1;33m\u001b[0m\u001b[0m\n",
      "\u001b[0;32mC:\\Users\\Chuck B\\Anaconda3\\envs\\py27\\lib\\site-packages\\sklearn\\utils\\metaestimators.pyc\u001b[0m in \u001b[0;36m<lambda>\u001b[0;34m(*args, **kwargs)\u001b[0m\n\u001b[1;32m     52\u001b[0m \u001b[1;33m\u001b[0m\u001b[0m\n\u001b[1;32m     53\u001b[0m         \u001b[1;31m# lambda, but not partial, allows help() to work with update_wrapper\u001b[0m\u001b[1;33m\u001b[0m\u001b[1;33m\u001b[0m\u001b[0m\n\u001b[0;32m---> 54\u001b[0;31m         \u001b[0mout\u001b[0m \u001b[1;33m=\u001b[0m \u001b[1;32mlambda\u001b[0m \u001b[1;33m*\u001b[0m\u001b[0margs\u001b[0m\u001b[1;33m,\u001b[0m \u001b[1;33m**\u001b[0m\u001b[0mkwargs\u001b[0m\u001b[1;33m:\u001b[0m \u001b[0mself\u001b[0m\u001b[1;33m.\u001b[0m\u001b[0mfn\u001b[0m\u001b[1;33m(\u001b[0m\u001b[0mobj\u001b[0m\u001b[1;33m,\u001b[0m \u001b[1;33m*\u001b[0m\u001b[0margs\u001b[0m\u001b[1;33m,\u001b[0m \u001b[1;33m**\u001b[0m\u001b[0mkwargs\u001b[0m\u001b[1;33m)\u001b[0m\u001b[1;33m\u001b[0m\u001b[0m\n\u001b[0m\u001b[1;32m     55\u001b[0m         \u001b[1;31m# update the docstring of the returned function\u001b[0m\u001b[1;33m\u001b[0m\u001b[1;33m\u001b[0m\u001b[0m\n\u001b[1;32m     56\u001b[0m         \u001b[0mupdate_wrapper\u001b[0m\u001b[1;33m(\u001b[0m\u001b[0mout\u001b[0m\u001b[1;33m,\u001b[0m \u001b[0mself\u001b[0m\u001b[1;33m.\u001b[0m\u001b[0mfn\u001b[0m\u001b[1;33m)\u001b[0m\u001b[1;33m\u001b[0m\u001b[0m\n",
      "\u001b[0;32mC:\\Users\\Chuck B\\Anaconda3\\envs\\py27\\lib\\site-packages\\sklearn\\pipeline.pyc\u001b[0m in \u001b[0;36mpredict\u001b[0;34m(self, X)\u001b[0m\n\u001b[1;32m    324\u001b[0m         \u001b[1;32mfor\u001b[0m \u001b[0mname\u001b[0m\u001b[1;33m,\u001b[0m \u001b[0mtransform\u001b[0m \u001b[1;32min\u001b[0m \u001b[0mself\u001b[0m\u001b[1;33m.\u001b[0m\u001b[0msteps\u001b[0m\u001b[1;33m[\u001b[0m\u001b[1;33m:\u001b[0m\u001b[1;33m-\u001b[0m\u001b[1;36m1\u001b[0m\u001b[1;33m]\u001b[0m\u001b[1;33m:\u001b[0m\u001b[1;33m\u001b[0m\u001b[0m\n\u001b[1;32m    325\u001b[0m             \u001b[1;32mif\u001b[0m \u001b[0mtransform\u001b[0m \u001b[1;32mis\u001b[0m \u001b[1;32mnot\u001b[0m \u001b[0mNone\u001b[0m\u001b[1;33m:\u001b[0m\u001b[1;33m\u001b[0m\u001b[0m\n\u001b[0;32m--> 326\u001b[0;31m                 \u001b[0mXt\u001b[0m \u001b[1;33m=\u001b[0m \u001b[0mtransform\u001b[0m\u001b[1;33m.\u001b[0m\u001b[0mtransform\u001b[0m\u001b[1;33m(\u001b[0m\u001b[0mXt\u001b[0m\u001b[1;33m)\u001b[0m\u001b[1;33m\u001b[0m\u001b[0m\n\u001b[0m\u001b[1;32m    327\u001b[0m         \u001b[1;32mreturn\u001b[0m \u001b[0mself\u001b[0m\u001b[1;33m.\u001b[0m\u001b[0msteps\u001b[0m\u001b[1;33m[\u001b[0m\u001b[1;33m-\u001b[0m\u001b[1;36m1\u001b[0m\u001b[1;33m]\u001b[0m\u001b[1;33m[\u001b[0m\u001b[1;33m-\u001b[0m\u001b[1;36m1\u001b[0m\u001b[1;33m]\u001b[0m\u001b[1;33m.\u001b[0m\u001b[0mpredict\u001b[0m\u001b[1;33m(\u001b[0m\u001b[0mXt\u001b[0m\u001b[1;33m)\u001b[0m\u001b[1;33m\u001b[0m\u001b[0m\n\u001b[1;32m    328\u001b[0m \u001b[1;33m\u001b[0m\u001b[0m\n",
      "\u001b[0;32mC:\\Users\\Chuck B\\Anaconda3\\envs\\py27\\lib\\site-packages\\sklearn\\preprocessing\\data.pyc\u001b[0m in \u001b[0;36mtransform\u001b[0;34m(self, X, y, copy)\u001b[0m\n\u001b[1;32m    658\u001b[0m         \u001b[1;32melse\u001b[0m\u001b[1;33m:\u001b[0m\u001b[1;33m\u001b[0m\u001b[0m\n\u001b[1;32m    659\u001b[0m             \u001b[1;32mif\u001b[0m \u001b[0mself\u001b[0m\u001b[1;33m.\u001b[0m\u001b[0mwith_mean\u001b[0m\u001b[1;33m:\u001b[0m\u001b[1;33m\u001b[0m\u001b[0m\n\u001b[0;32m--> 660\u001b[0;31m                 \u001b[0mX\u001b[0m \u001b[1;33m-=\u001b[0m \u001b[0mself\u001b[0m\u001b[1;33m.\u001b[0m\u001b[0mmean_\u001b[0m\u001b[1;33m\u001b[0m\u001b[0m\n\u001b[0m\u001b[1;32m    661\u001b[0m             \u001b[1;32mif\u001b[0m \u001b[0mself\u001b[0m\u001b[1;33m.\u001b[0m\u001b[0mwith_std\u001b[0m\u001b[1;33m:\u001b[0m\u001b[1;33m\u001b[0m\u001b[0m\n\u001b[1;32m    662\u001b[0m                 \u001b[0mX\u001b[0m \u001b[1;33m/=\u001b[0m \u001b[0mself\u001b[0m\u001b[1;33m.\u001b[0m\u001b[0mscale_\u001b[0m\u001b[1;33m\u001b[0m\u001b[0m\n",
      "\u001b[0;31mValueError\u001b[0m: operands could not be broadcast together with shapes (1,15) (14,) (1,15) "
     ]
    }
   ],
   "source": [
    "mydata = [['11.406', '22.902', '514.395', '81.636', '179.822', '179.898', '-14.837', '-4.425', '34.947', '0.004', '-0.003', '0.471', '-0.000', '-0.001', '-0.001'],\n",
    "['11.409', '22.982', '514.394', '81.668', '179.818', '179.895', '-14.865', '-4.491', '34.961', '0.003', '-0.003', '0.472', '-0.000', '-0.000', '-0.001'],\n",
    "['11.418', '22.867', '514.394', '81.683', '179.817', '179.892', '-14.835', '-4.611', '34.928', '0.003', '-0.003', '0.472', '-0.000', '-0.001', '-0.001']]\n",
    "\n",
    "filename = '../model/sensor_model_2017.11.20a.sav'\n",
    "\n",
    "# Load our saved model\n",
    "loaded_model = pickle.load(open(filename, 'rb'))\n",
    "# Scaling features, mean = 0, stddev = 1\n",
    "scaler = StandardScaler()\n",
    "\n",
    "header = ['Temp','Humidity','Pressure','Yaw','Pitch','Roll','MagX','MagY','MagZ','AccX','AccY','AccZ','GyroX',' GyroY','GyroZ']\n",
    "print len(header), len(mydata[0])\n",
    "print mydata[0]\n",
    "print header\n",
    "\n",
    "# scaler.fit(X_test) # Fit with data frame\n",
    "my_df = pd.DataFrame(mydata, columns=header)\n",
    "my_df.head(2)\n",
    "scaler.fit(my_df)\n",
    "\n",
    "# Simulate 10 consecutive sensor readings and make a prediction\n",
    "dat = ['15.000', '20.323', '511.239', '82.007', '179.526', '0.073', '-12.106', '-3.473', '31.989', '0.007', '0.001', '0.473', '-0.000', '0.000', '0.000']\n",
    "prediction = loaded_model.predict(pd.Series(dat).reshape(1,-1))\n",
    "# print (prediction)\n",
    "\n",
    "# dat_series = pd.Series(dat)\n",
    "# print \"Type\", type(dat_series)\n",
    "# print \"Shape\", dat_series.shape\n",
    "# print \"Type\", type(dat_series.reshape(1,-1))\n",
    "# # print dat_series.reshape(1,15)\n",
    "# print dat_series.reshape(1,-1).shape\n",
    "\n",
    "# prediction = loaded_model.predict(scaler.transform(X_test.iloc[5,:].reshape(1,-1)))\n",
    "# print (prediction)\n",
    "    "
   ]
  },
  {
   "cell_type": "markdown",
   "metadata": {},
   "source": [
    "# Compares Before and After Reshaping"
   ]
  },
  {
   "cell_type": "code",
   "execution_count": 43,
   "metadata": {
    "collapsed": false
   },
   "outputs": [
    {
     "name": "stdout",
     "output_type": "stream",
     "text": [
      " Temp          25.527000\n",
      " Humidity      36.760000\n",
      " Pressure    1025.950000\n",
      " Yaw          158.921194\n",
      " Pitch        356.681997\n",
      " Roll           2.092825\n",
      " MagX         -42.919319\n",
      " MagY         -14.954748\n",
      " MagZ          76.645782\n",
      " AccX           0.042428\n",
      " AccY           0.022094\n",
      " AccZ           0.943594\n",
      " GyroX          0.000503\n",
      " GyroY          0.017684\n",
      "Name: 3196, dtype: float64\n",
      "[[  2.55270000e+01   3.67600000e+01   1.02595000e+03   1.58921194e+02\n",
      "    3.56681997e+02   2.09282500e+00  -4.29193190e+01  -1.49547480e+01\n",
      "    7.66457820e+01   4.24280000e-02   2.20940000e-02   9.43594000e-01\n",
      "    5.03000000e-04   1.76840000e-02]]\n"
     ]
    },
    {
     "name": "stderr",
     "output_type": "stream",
     "text": [
      "C:\\Users\\Chuck B\\Anaconda3\\envs\\tensorflow\\lib\\site-packages\\ipykernel_launcher.py:2: FutureWarning: reshape is deprecated and will raise in a subsequent release. Please use .values.reshape(...) instead\n",
      "  \n"
     ]
    }
   ],
   "source": [
    "# Reference only. In the next cell the data must be reshaped. Here are the differences.\n",
    "print (X_test.iloc[1,:])\n",
    "print (X_test.iloc[1,:].reshape(1,-1))\n",
    "\n",
    "##"
   ]
  }
 ],
 "metadata": {
  "kernelspec": {
   "display_name": "Python [py27]",
   "language": "python",
   "name": "Python [py27]"
  },
  "language_info": {
   "codemirror_mode": {
    "name": "ipython",
    "version": 2
   },
   "file_extension": ".py",
   "mimetype": "text/x-python",
   "name": "python",
   "nbconvert_exporter": "python",
   "pygments_lexer": "ipython2",
   "version": "2.7.13"
  }
 },
 "nbformat": 4,
 "nbformat_minor": 2
}
