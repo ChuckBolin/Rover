{
 "cells": [
  {
   "cell_type": "code",
   "execution_count": 1,
   "metadata": {
    "collapsed": false
   },
   "outputs": [
    {
     "name": "stderr",
     "output_type": "stream",
     "text": [
      "C:\\Users\\Chuck B\\Anaconda3\\envs\\py27\\lib\\site-packages\\sklearn\\cross_validation.py:44: DeprecationWarning: This module was deprecated in version 0.18 in favor of the model_selection module into which all the refactored classes and functions are moved. Also note that the interface of the new CV iterators are different from that of this module. This module will be removed in 0.20.\n",
      "  \"This module will be removed in 0.20.\", DeprecationWarning)\n"
     ]
    }
   ],
   "source": [
    "from sklearn.neural_network import MLPClassifier\n",
    "from sklearn.preprocessing import StandardScaler \n",
    "from sklearn.cross_validation import train_test_split\n",
    "from sklearn.cross_validation import cross_val_score\n",
    "from sklearn.metrics import classification_report,confusion_matrix\n",
    "from sklearn.metrics import precision_recall_fscore_support as score\n",
    "from sklearn.pipeline import Pipeline\n",
    "import pandas as pd\n",
    "import numpy as np\n",
    "import pickle\n",
    "\n",
    "##"
   ]
  },
  {
   "cell_type": "markdown",
   "metadata": {},
   "source": [
    "# Load and Divide Data into Training and Testing  \n",
    "  \n",
    "In addition, the data is scaled. \n"
   ]
  },
  {
   "cell_type": "code",
   "execution_count": 41,
   "metadata": {
    "collapsed": false,
    "scrolled": true
   },
   "outputs": [
    {
     "name": "stdout",
     "output_type": "stream",
     "text": [
      "Dataframe df shape (5457, 17)\n",
      "X y shape (5457, 15) (5457L,)\n",
      "X train shape (4365, 15)\n",
      "X test shape (1092, 15)\n"
     ]
    },
    {
     "data": {
      "text/html": [
       "<div>\n",
       "<table border=\"1\" class=\"dataframe\">\n",
       "  <thead>\n",
       "    <tr style=\"text-align: right;\">\n",
       "      <th></th>\n",
       "      <th>DateTime</th>\n",
       "      <th>Temp</th>\n",
       "      <th>Humidity</th>\n",
       "      <th>Pressure</th>\n",
       "      <th>Yaw</th>\n",
       "      <th>Pitch</th>\n",
       "      <th>Roll</th>\n",
       "      <th>MagX</th>\n",
       "      <th>MagY</th>\n",
       "      <th>MagZ</th>\n",
       "      <th>AccX</th>\n",
       "      <th>AccY</th>\n",
       "      <th>AccZ</th>\n",
       "      <th>GyroX</th>\n",
       "      <th>GyroY</th>\n",
       "      <th>GyroZ</th>\n",
       "      <th>State</th>\n",
       "    </tr>\n",
       "  </thead>\n",
       "  <tbody>\n",
       "    <tr>\n",
       "      <th>0</th>\n",
       "      <td>11/12/2017 10:52:35.251176</td>\n",
       "      <td>29.361</td>\n",
       "      <td>40.702</td>\n",
       "      <td>1031.956</td>\n",
       "      <td>215.801975</td>\n",
       "      <td>356.730118</td>\n",
       "      <td>2.171165</td>\n",
       "      <td>-5.351357</td>\n",
       "      <td>5.945352</td>\n",
       "      <td>26.308798</td>\n",
       "      <td>0.056247</td>\n",
       "      <td>0.034719</td>\n",
       "      <td>0.960166</td>\n",
       "      <td>-0.060679</td>\n",
       "      <td>0.072064</td>\n",
       "      <td>0.049957</td>\n",
       "      <td>standing</td>\n",
       "    </tr>\n",
       "    <tr>\n",
       "      <th>1</th>\n",
       "      <td>11/12/2017 10:52:35.523388</td>\n",
       "      <td>29.308</td>\n",
       "      <td>39.749</td>\n",
       "      <td>1031.952</td>\n",
       "      <td>216.099403</td>\n",
       "      <td>356.626506</td>\n",
       "      <td>2.103062</td>\n",
       "      <td>-10.720130</td>\n",
       "      <td>12.090914</td>\n",
       "      <td>53.852757</td>\n",
       "      <td>0.055035</td>\n",
       "      <td>0.016267</td>\n",
       "      <td>0.974544</td>\n",
       "      <td>0.011399</td>\n",
       "      <td>0.019521</td>\n",
       "      <td>-0.016927</td>\n",
       "      <td>standing</td>\n",
       "    </tr>\n",
       "    <tr>\n",
       "      <th>2</th>\n",
       "      <td>11/12/2017 10:52:35.688238</td>\n",
       "      <td>29.468</td>\n",
       "      <td>40.231</td>\n",
       "      <td>1031.941</td>\n",
       "      <td>216.340904</td>\n",
       "      <td>356.301112</td>\n",
       "      <td>2.310486</td>\n",
       "      <td>-13.004756</td>\n",
       "      <td>14.781075</td>\n",
       "      <td>65.216164</td>\n",
       "      <td>0.046307</td>\n",
       "      <td>0.014810</td>\n",
       "      <td>0.939451</td>\n",
       "      <td>0.040319</td>\n",
       "      <td>0.005237</td>\n",
       "      <td>-0.007642</td>\n",
       "      <td>standing</td>\n",
       "    </tr>\n",
       "    <tr>\n",
       "      <th>3</th>\n",
       "      <td>11/12/2017 10:52:35.849093</td>\n",
       "      <td>29.397</td>\n",
       "      <td>40.121</td>\n",
       "      <td>1031.950</td>\n",
       "      <td>216.613607</td>\n",
       "      <td>356.519507</td>\n",
       "      <td>2.298305</td>\n",
       "      <td>-13.880388</td>\n",
       "      <td>16.216396</td>\n",
       "      <td>69.694740</td>\n",
       "      <td>0.060854</td>\n",
       "      <td>0.016267</td>\n",
       "      <td>0.945544</td>\n",
       "      <td>-0.005668</td>\n",
       "      <td>0.020673</td>\n",
       "      <td>0.007911</td>\n",
       "      <td>standing</td>\n",
       "    </tr>\n",
       "    <tr>\n",
       "      <th>4</th>\n",
       "      <td>11/12/2017 10:52:36.010403</td>\n",
       "      <td>29.343</td>\n",
       "      <td>40.088</td>\n",
       "      <td>1031.943</td>\n",
       "      <td>216.940253</td>\n",
       "      <td>356.745464</td>\n",
       "      <td>2.196436</td>\n",
       "      <td>-13.895806</td>\n",
       "      <td>16.390114</td>\n",
       "      <td>71.753525</td>\n",
       "      <td>0.055763</td>\n",
       "      <td>0.023308</td>\n",
       "      <td>0.937014</td>\n",
       "      <td>-0.008612</td>\n",
       "      <td>0.015847</td>\n",
       "      <td>0.017006</td>\n",
       "      <td>standing</td>\n",
       "    </tr>\n",
       "  </tbody>\n",
       "</table>\n",
       "</div>"
      ],
      "text/plain": [
       "                     DateTime    Temp   Humidity   Pressure         Yaw  \\\n",
       "0  11/12/2017 10:52:35.251176  29.361     40.702   1031.956  215.801975   \n",
       "1  11/12/2017 10:52:35.523388  29.308     39.749   1031.952  216.099403   \n",
       "2  11/12/2017 10:52:35.688238  29.468     40.231   1031.941  216.340904   \n",
       "3  11/12/2017 10:52:35.849093  29.397     40.121   1031.950  216.613607   \n",
       "4  11/12/2017 10:52:36.010403  29.343     40.088   1031.943  216.940253   \n",
       "\n",
       "        Pitch      Roll       MagX       MagY       MagZ      AccX      AccY  \\\n",
       "0  356.730118  2.171165  -5.351357   5.945352  26.308798  0.056247  0.034719   \n",
       "1  356.626506  2.103062 -10.720130  12.090914  53.852757  0.055035  0.016267   \n",
       "2  356.301112  2.310486 -13.004756  14.781075  65.216164  0.046307  0.014810   \n",
       "3  356.519507  2.298305 -13.880388  16.216396  69.694740  0.060854  0.016267   \n",
       "4  356.745464  2.196436 -13.895806  16.390114  71.753525  0.055763  0.023308   \n",
       "\n",
       "       AccZ     GyroX     GyroY     GyroZ     State  \n",
       "0  0.960166 -0.060679  0.072064  0.049957  standing  \n",
       "1  0.974544  0.011399  0.019521 -0.016927  standing  \n",
       "2  0.939451  0.040319  0.005237 -0.007642  standing  \n",
       "3  0.945544 -0.005668  0.020673  0.007911  standing  \n",
       "4  0.937014 -0.008612  0.015847  0.017006  standing  "
      ]
     },
     "execution_count": 41,
     "metadata": {},
     "output_type": "execute_result"
    }
   ],
   "source": [
    "# Load comma delimited sensor data into Pandas data frame\n",
    "sensor_file = \"../data/sensor_11_12_2017_10_52_24.csv\"\n",
    "df = pd.read_csv(sensor_file)\n",
    "print \"Dataframe df shape\", df.shape\n",
    "# df.iloc[:,1:16].head()\n",
    "# df.iloc[:,16].head()\n",
    "\n",
    "# Extract features and target (y)\n",
    "X = df.iloc[:,1:16] # exclude date\n",
    "y = df.iloc[:,16] # state\n",
    "print \"X y shape\", X.shape, y.shape\n",
    "\n",
    "# Use 80% of data for training, 20% for testing\n",
    "X_train,X_test,y_train,y_test = train_test_split(X, y, test_size=0.20, random_state = 1)\n",
    "print \"X train shape\", X_train.shape\n",
    "print \"X test shape\", X_test.shape\n",
    "\n",
    "# Scaling features, mean = 0, stddev = 1\n",
    "scaler = StandardScaler()\n",
    "scaler.fit(X_train)  \n",
    "X_train = scaler.transform(X_train)\n",
    "\n",
    "# Head\n",
    "df.head()\n",
    "\n",
    "##"
   ]
  },
  {
   "cell_type": "markdown",
   "metadata": {},
   "source": [
    "# Construct Neural Network Model and Tweak"
   ]
  },
  {
   "cell_type": "code",
   "execution_count": 42,
   "metadata": {
    "collapsed": false
   },
   "outputs": [
    {
     "name": "stdout",
     "output_type": "stream",
     "text": [
      "0.904545454545\n",
      "0.897494305239\n",
      "0.929223744292\n",
      "0.908675799087\n",
      "0.91095890411\n",
      "0.924137931034\n",
      "0.905747126437\n",
      "0.926267281106\n",
      "0.910138248848\n",
      "0.923963133641\n",
      "CV Acc: 0.914 +/- 0.010\n"
     ]
    }
   ],
   "source": [
    "# Supervised neural network model\n",
    "# http://scikit-learn.org/stable/modules/neural_networks_supervised.html\n",
    "\n",
    "# NN has 3 hidden layers. 1st layer has 15 neurons which equals 15 features\n",
    "#     2nd layer has 100 (just because), and 3rd layer has 8 which equals 8 classes\n",
    "\n",
    "# Pipeline, push scaler and classifer\n",
    "pipe = Pipeline([('scl', StandardScaler()),\n",
    "                 ('clf', MLPClassifier(solver='lbfgs', alpha=0.00001,\n",
    "                                           hidden_layer_sizes=(15,100, 8), random_state=1))])\n",
    "\n",
    "# How well does the model converge? Overfitting? Underfitting?\n",
    "scores = cross_val_score(estimator=pipe, X=X_train, y=y_train,cv=10,n_jobs=1)\n",
    "for s in scores:\n",
    "    print (s)\n",
    "    \n",
    "# The final CV acc for training data was 0.64 using Logistic Regression\n",
    "print ('CV Acc: %.3f +/- %.3f' % (np.mean(scores), np.std(scores)))\n",
    "\n",
    "##"
   ]
  },
  {
   "cell_type": "code",
   "execution_count": 14,
   "metadata": {
    "collapsed": false
   },
   "outputs": [
    {
     "data": {
      "text/plain": [
       "<bound method Pipeline.get_params of Pipeline(steps=[('scl', StandardScaler(copy=True, with_mean=True, with_std=True)), ('clf', MLPClassifier(activation='relu', alpha=1e-05, batch_size='auto', beta_1=0.9,\n",
       "       beta_2=0.999, early_stopping=False, epsilon=1e-08,\n",
       "       hidden_layer_sizes=(15, 100, 8), learning_rate='constant',\n",
       "       learning_r...      solver='lbfgs', tol=0.0001, validation_fraction=0.1, verbose=False,\n",
       "       warm_start=False))])>"
      ]
     },
     "execution_count": 14,
     "metadata": {},
     "output_type": "execute_result"
    }
   ],
   "source": [
    "## Show model parameters\n",
    "pipe.get_params"
   ]
  },
  {
   "cell_type": "markdown",
   "metadata": {},
   "source": [
    "# Use Models to Make Predictions and Evaluate"
   ]
  },
  {
   "cell_type": "code",
   "execution_count": 50,
   "metadata": {
    "collapsed": false
   },
   "outputs": [
    {
     "data": {
      "text/html": [
       "<div>\n",
       "<table border=\"1\" class=\"dataframe\">\n",
       "  <thead>\n",
       "    <tr style=\"text-align: right;\">\n",
       "      <th>col_0</th>\n",
       "      <th>go_down</th>\n",
       "      <th>go_up</th>\n",
       "      <th>spin_left</th>\n",
       "      <th>spin_right</th>\n",
       "      <th>standing</th>\n",
       "      <th>turn_left</th>\n",
       "      <th>turn_right</th>\n",
       "      <th>walking</th>\n",
       "    </tr>\n",
       "    <tr>\n",
       "      <th>State</th>\n",
       "      <th></th>\n",
       "      <th></th>\n",
       "      <th></th>\n",
       "      <th></th>\n",
       "      <th></th>\n",
       "      <th></th>\n",
       "      <th></th>\n",
       "      <th></th>\n",
       "    </tr>\n",
       "  </thead>\n",
       "  <tbody>\n",
       "    <tr>\n",
       "      <th>go_down</th>\n",
       "      <td>35</td>\n",
       "      <td>7</td>\n",
       "      <td>0</td>\n",
       "      <td>0</td>\n",
       "      <td>0</td>\n",
       "      <td>3</td>\n",
       "      <td>1</td>\n",
       "      <td>3</td>\n",
       "    </tr>\n",
       "    <tr>\n",
       "      <th>go_up</th>\n",
       "      <td>5</td>\n",
       "      <td>45</td>\n",
       "      <td>1</td>\n",
       "      <td>0</td>\n",
       "      <td>1</td>\n",
       "      <td>1</td>\n",
       "      <td>0</td>\n",
       "      <td>0</td>\n",
       "    </tr>\n",
       "    <tr>\n",
       "      <th>spin_left</th>\n",
       "      <td>0</td>\n",
       "      <td>0</td>\n",
       "      <td>100</td>\n",
       "      <td>0</td>\n",
       "      <td>0</td>\n",
       "      <td>3</td>\n",
       "      <td>1</td>\n",
       "      <td>0</td>\n",
       "    </tr>\n",
       "    <tr>\n",
       "      <th>spin_right</th>\n",
       "      <td>0</td>\n",
       "      <td>0</td>\n",
       "      <td>0</td>\n",
       "      <td>66</td>\n",
       "      <td>1</td>\n",
       "      <td>0</td>\n",
       "      <td>0</td>\n",
       "      <td>0</td>\n",
       "    </tr>\n",
       "    <tr>\n",
       "      <th>standing</th>\n",
       "      <td>0</td>\n",
       "      <td>0</td>\n",
       "      <td>1</td>\n",
       "      <td>0</td>\n",
       "      <td>128</td>\n",
       "      <td>0</td>\n",
       "      <td>0</td>\n",
       "      <td>1</td>\n",
       "    </tr>\n",
       "    <tr>\n",
       "      <th>turn_left</th>\n",
       "      <td>1</td>\n",
       "      <td>1</td>\n",
       "      <td>1</td>\n",
       "      <td>0</td>\n",
       "      <td>0</td>\n",
       "      <td>157</td>\n",
       "      <td>2</td>\n",
       "      <td>15</td>\n",
       "    </tr>\n",
       "    <tr>\n",
       "      <th>turn_right</th>\n",
       "      <td>0</td>\n",
       "      <td>0</td>\n",
       "      <td>0</td>\n",
       "      <td>0</td>\n",
       "      <td>0</td>\n",
       "      <td>2</td>\n",
       "      <td>143</td>\n",
       "      <td>12</td>\n",
       "    </tr>\n",
       "    <tr>\n",
       "      <th>walking</th>\n",
       "      <td>6</td>\n",
       "      <td>0</td>\n",
       "      <td>1</td>\n",
       "      <td>0</td>\n",
       "      <td>2</td>\n",
       "      <td>9</td>\n",
       "      <td>9</td>\n",
       "      <td>328</td>\n",
       "    </tr>\n",
       "  </tbody>\n",
       "</table>\n",
       "</div>"
      ],
      "text/plain": [
       "col_0       go_down  go_up  spin_left  spin_right  standing  turn_left  \\\n",
       " State                                                                   \n",
       "go_down          35      7          0           0         0          3   \n",
       "go_up             5     45          1           0         1          1   \n",
       "spin_left         0      0        100           0         0          3   \n",
       "spin_right        0      0          0          66         1          0   \n",
       "standing          0      0          1           0       128          0   \n",
       "turn_left         1      1          1           0         0        157   \n",
       "turn_right        0      0          0           0         0          2   \n",
       "walking           6      0          1           0         2          9   \n",
       "\n",
       "col_0       turn_right  walking  \n",
       " State                           \n",
       "go_down              1        3  \n",
       "go_up                0        0  \n",
       "spin_left            1        0  \n",
       "spin_right           0        0  \n",
       "standing             0        1  \n",
       "turn_left            2       15  \n",
       "turn_right         143       12  \n",
       "walking              9      328  "
      ]
     },
     "execution_count": 50,
     "metadata": {},
     "output_type": "execute_result"
    }
   ],
   "source": [
    "# Fit training data\n",
    "pipe.fit(X_train, y_train)\n",
    "predictions = pipe.predict(scaler.transform(X_test)) # Get predictions\n",
    "\n",
    "# Better table\n",
    "pd.crosstab(y_test, predictions)\n",
    "\n",
    "# Ideally, there would zeros everywhere except for the main diagonal\n",
    "# Last row, for example, the actual state is 'walking', but the model\n",
    "# is predicting 'turn-right'\n"
   ]
  },
  {
   "cell_type": "code",
   "execution_count": 51,
   "metadata": {
    "collapsed": false
   },
   "outputs": [
    {
     "name": "stdout",
     "output_type": "stream",
     "text": [
      "('Prec ', 'Rec', '  Fscore')\n",
      "('0.745', '0.714', '0.729')\n",
      "('0.849', '0.849', '0.849')\n",
      "('0.962', '0.962', '0.962')\n",
      "('1.000', '0.985', '0.992')\n",
      "('0.970', '0.985', '0.977')\n",
      "('0.897', '0.887', '0.892')\n",
      "('0.917', '0.911', '0.914')\n",
      "('0.914', '0.924', '0.919')\n"
     ]
    }
   ],
   "source": [
    "# Metrics\n",
    "precision, recall, fscore, support = score(y_test, predictions)\n",
    "\n",
    "print ('Prec ','Rec','  Fscore')\n",
    "for i in range(len(precision)):\n",
    "    print (('%.3f' % precision[i]), ('%.3f' % recall[i]), ('%.3f' % fscore[i]))\n",
    "    \n",
    "## Note that accuracy is not appropriate for unbalanced classes.\n",
    "## F-score is the superior metric\n",
    "## The lowest Fscores are associated with 'go_down' and 'go_up'\n",
    "\n",
    "##"
   ]
  },
  {
   "cell_type": "markdown",
   "metadata": {},
   "source": [
    "# Deploying Demonstration  \n",
    "  \n",
    "The following code demonstrate how the Neural Network model is saved and deployed to automatically classify sensor readings into one of eight classes.  \n",
    "\n",
    "I intend on loading this model to the Raspberry Pi and feeding it with the sensor data to indicate automatically what motion the user is making.\n"
   ]
  },
  {
   "cell_type": "code",
   "execution_count": 52,
   "metadata": {
    "collapsed": false,
    "scrolled": true
   },
   "outputs": [],
   "source": [
    "# Use pickle library to save model\n",
    "filename = '../model/sensor_model_2017.11.20c.sav'\n",
    "pickle.dump(pipe, open(filename, 'wb'))\n"
   ]
  },
  {
   "cell_type": "code",
   "execution_count": 55,
   "metadata": {
    "collapsed": false
   },
   "outputs": [
    {
     "name": "stdout",
     "output_type": "stream",
     "text": [
      "<class 'pandas.core.frame.DataFrame'>\n",
      "['turn_left']\n"
     ]
    },
    {
     "name": "stderr",
     "output_type": "stream",
     "text": [
      "C:\\Users\\Chuck B\\Anaconda3\\envs\\py27\\lib\\site-packages\\ipykernel\\__main__.py:17: FutureWarning: reshape is deprecated and will raise in a subsequent release. Please use .values.reshape(...) instead\n"
     ]
    }
   ],
   "source": [
    "# NOTE: For reference only\n",
    "#Add this to data logger for automatically describing the state of motion\n",
    "filename = '../model/sensor_model_2017.11.20c.sav'\n",
    "\n",
    "# Load our saved model\n",
    "loaded_model = pickle.load(open(filename, 'rb'))\n",
    "# print loaded_model.get_params\n",
    "\n",
    "# Scaling features, mean = 0, stddev = 1\n",
    "scaler = StandardScaler()\n",
    "scaler.fit(X_test)\n",
    "\n",
    "# Simulated received data\n",
    "dat = ['33.302', '34.442', '1018.687', '166.270478', '359.305019', '0.341884', '-19.774937', '-5.494294', '60.614586', '0.020365', '0.000971', '0.947250', '0.001709', '0.002304', '0.002999']\n",
    "\n",
    "# Make prediction on simulated data\n",
    "prediction = loaded_model.predict(pd.Series(dat).reshape(1,-1))\n",
    "print (prediction)\n",
    "\n",
    "## It may be necessary to calculate a running average on sensors to minimize\n",
    "## noise.\n",
    "\n",
    "##"
   ]
  },
  {
   "cell_type": "markdown",
   "metadata": {},
   "source": [
    "# Code"
   ]
  },
  {
   "cell_type": "code",
   "execution_count": 70,
   "metadata": {
    "collapsed": false
   },
   "outputs": [
    {
     "name": "stdout",
     "output_type": "stream",
     "text": [
      "<class 'pandas.core.series.Series'>\n"
     ]
    }
   ],
   "source": [
    "mydata = [['11.406', '22.902', '514.395', '81.636', '179.822', '179.898', '-14.837', '-4.425', '34.947', '0.004', '-0.003', '0.471', '-0.000', '-0.001', '-0.001'],\n",
    "['11.409', '22.982', '514.394', '81.668', '179.818', '179.895', '-14.865', '-4.491', '34.961', '0.003', '-0.003', '0.472', '-0.000', '-0.000', '-0.001'],\n",
    "['11.418', '22.867', '514.394', '81.683', '179.817', '179.892', '-14.835', '-4.611', '34.928', '0.003', '-0.003', '0.472', '-0.000', '-0.001', '-0.001']]\n",
    "\n",
    "# mydata = []\n",
    "for i in range(0, len(mydata)):\n",
    "    mydata[i] = map(float, mydata[i])\n",
    "\n",
    "# print mydata\n",
    "\n",
    "# # header = ['Temp','Humidity','Pressure','Yaw','Pitch','Roll','MagX','MagY','MagZ','AccX','AccY','AccZ','GyroX',' GyroY','GyroZ']\n",
    "my_df = pd.DataFrame(mydata)\n",
    "print type(my_df.mean(axis=0))\n",
    "\n",
    "# print my_df.mean(axis=0)\n"
   ]
  },
  {
   "cell_type": "code",
   "execution_count": 64,
   "metadata": {
    "collapsed": false
   },
   "outputs": [
    {
     "data": {
      "text/plain": [
       "[11.406,\n",
       " 22.902,\n",
       " 514.395,\n",
       " 81.636,\n",
       " 179.822,\n",
       " 179.898,\n",
       " -14.837,\n",
       " -4.425,\n",
       " 34.947,\n",
       " 0.004,\n",
       " -0.003,\n",
       " 0.471,\n",
       " -0.0,\n",
       " -0.001,\n",
       " -0.001]"
      ]
     },
     "execution_count": 64,
     "metadata": {},
     "output_type": "execute_result"
    }
   ],
   "source": [
    "mylist =['11.406', '22.902', '514.395', '81.636', '179.822', '179.898', '-14.837', '-4.425', '34.947', '0.004', '-0.003', '0.471', '-0.000', '-0.001', '-0.001']\n",
    "map(float, mylist)"
   ]
  }
 ],
 "metadata": {
  "kernelspec": {
   "display_name": "Python [py27]",
   "language": "python",
   "name": "Python [py27]"
  },
  "language_info": {
   "codemirror_mode": {
    "name": "ipython",
    "version": 2
   },
   "file_extension": ".py",
   "mimetype": "text/x-python",
   "name": "python",
   "nbconvert_exporter": "python",
   "pygments_lexer": "ipython2",
   "version": "2.7.13"
  }
 },
 "nbformat": 4,
 "nbformat_minor": 2
}
